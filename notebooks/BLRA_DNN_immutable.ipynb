{
 "cells": [
  {
   "cell_type": "code",
   "execution_count": 1,
   "id": "85fa1e01",
   "metadata": {},
   "outputs": [],
   "source": [
    "#Import and Install Dependencies\n",
    "import os\n",
    "from matplotlib import pyplot as plt\n",
    "import tensorflow as tf\n",
    "import tensorflow_io as tfio"
   ]
  },
  {
   "cell_type": "code",
   "execution_count": 2,
   "id": "04d4a29e",
   "metadata": {},
   "outputs": [
    {
     "data": {
      "text/plain": [
       "'C:\\\\Users\\\\Soldo\\\\Desktop\\\\Black_Rail_Audio_Files\\\\BLRA_Deep_Learning_Model'"
      ]
     },
     "execution_count": 2,
     "metadata": {},
     "output_type": "execute_result"
    }
   ],
   "source": [
    "pwd"
   ]
  },
  {
   "cell_type": "code",
   "execution_count": 3,
   "id": "bffd458e",
   "metadata": {},
   "outputs": [],
   "source": [
    "BLRA_FILE = 'C:\\\\Users\\\\Soldo\\\\Desktop\\\\Black_Rail_Audio_Files\\\\BLRA_Deep_Learning_Model\\\\Parsed_BLRA_Clips\\\\BR_Call_1.wav'"
   ]
  },
  {
   "cell_type": "code",
   "execution_count": 4,
   "id": "b19e222b",
   "metadata": {},
   "outputs": [],
   "source": [
    "NOT_BLRA_FILE = 'C:\\\\Users\\\\Soldo\\\\Desktop\\\\Black_Rail_Audio_Files\\\\BLRA_Deep_Learning_Model\\\\Parsed_Not_BLRA_Clips\\\\afternoon-birds-song-in-forest-1.wav'"
   ]
  },
  {
   "cell_type": "code",
   "execution_count": 5,
   "id": "c2dcac12",
   "metadata": {},
   "outputs": [],
   "source": [
    "#Build Data Loading Function\n",
    "def load_wav_16k_mono(file_name):\n",
    "    #Load encoded wav file\n",
    "    file_contents = tf.io.read_file(file_name)\n",
    "    # Decode wav (tensor by channels)\n",
    "    wav, sample_rate = tf.audio.decode_wav(file_contents, desired_channels=1)\n",
    "    # Removes trailing axis\n",
    "    wav = tf.squeeze(wav, axis=-1)\n",
    "    sample_rate = tf.cast(sample_rate, dtype=tf.int64)\n",
    "    # Goes from 44100Hz to 16000hx - amplitude of the audio signal\n",
    "    wav = tfio.audio.resample(wav, rate_in=sample_rate, rate_out=16000)\n",
    "    return wav"
   ]
  },
  {
   "cell_type": "code",
   "execution_count": 6,
   "id": "ecc7c0a3",
   "metadata": {},
   "outputs": [
    {
     "data": {
      "image/png": "[encoded data removed]",
      "text/plain": [
       "<Figure size 640x480 with 1 Axes>"
      ]
     },
     "metadata": {},
     "output_type": "display_data"
    }
   ],
   "source": [
    "# Plot Wave\n",
    "wave = load_wav_16k_mono(BLRA_FILE)\n",
    "nwave = load_wav_16k_mono(NOT_BLRA_FILE)\n",
    "\n",
    "plt.plot(wave)\n",
    "plt.plot(nwave)\n",
    "plt.show()"
   ]
  },
  {
   "cell_type": "code",
   "execution_count": 7,
   "id": "08b28a63",
   "metadata": {},
   "outputs": [],
   "source": [
    "# Define wich folders contain the clips that have BLRA calls and which do not\n",
    "POS = 'C:\\\\Users\\\\Soldo\\\\Desktop\\\\Black_Rail_Audio_Files\\\\BLRA_Deep_Learning_Model\\\\Parsed_BLRA_Clips'\n",
    "NEG = 'C:\\\\Users\\\\Soldo\\\\Desktop\\\\Black_Rail_Audio_Files\\\\BLRA_Deep_Learning_Model\\\\Parsed_Not_BLRA_Clips'"
   ]
  },
  {
   "cell_type": "code",
   "execution_count": 8,
   "id": "c94be382",
   "metadata": {},
   "outputs": [],
   "source": [
    "# Create a variable that holds all of the files in each folder - searches for files with .wav at the end\n",
    "pos = tf.data.Dataset.list_files(POS+'\\*.wav')\n",
    "neg = tf.data.Dataset.list_files(NEG+'\\*.wav')"
   ]
  },
  {
   "cell_type": "code",
   "execution_count": 9,
   "id": "e32aed0f",
   "metadata": {},
   "outputs": [
    {
     "data": {
      "text/plain": [
       "b'C:\\\\Users\\\\Soldo\\\\Desktop\\\\Black_Rail_Audio_Files\\\\BLRA_Deep_Learning_Model\\\\Parsed_BLRA_Clips\\\\BR_Call_13.wav'"
      ]
     },
     "execution_count": 9,
     "metadata": {},
     "output_type": "execute_result"
    }
   ],
   "source": [
    "# Make sure the previous code worked - should see any .wav file within the positive folder\n",
    "pos.as_numpy_iterator().next()"
   ]
  },
  {
   "cell_type": "code",
   "execution_count": 10,
   "id": "e1dd5bbd",
   "metadata": {},
   "outputs": [
    {
     "data": {
      "text/plain": [
       "210"
      ]
     },
     "execution_count": 10,
     "metadata": {},
     "output_type": "execute_result"
    }
   ],
   "source": [
    "# How many .wav files are in the BLRA positive folder?\n",
    "len(pos)"
   ]
  },
  {
   "cell_type": "code",
   "execution_count": 11,
   "id": "d6e4d2a1",
   "metadata": {},
   "outputs": [
    {
     "data": {
      "text/plain": [
       "210"
      ]
     },
     "execution_count": 11,
     "metadata": {},
     "output_type": "execute_result"
    }
   ],
   "source": [
    "# How many .wav files are in the not BLRA folder?\n",
    "len(neg)"
   ]
  },
  {
   "cell_type": "code",
   "execution_count": 12,
   "id": "847bafc6",
   "metadata": {},
   "outputs": [],
   "source": [
    "# Add labels to each file and combine positive and negative samples into variable called \"data\"\n",
    "positives = tf.data.Dataset.zip((pos, tf.data.Dataset.from_tensor_slices(tf.ones(len(pos)))))\n",
    "negatives = tf.data.Dataset.zip((neg, tf.data.Dataset.from_tensor_slices(tf.zeros(len(neg)))))\n",
    "data = positives.concatenate(negatives)"
   ]
  },
  {
   "cell_type": "code",
   "execution_count": 13,
   "id": "60621df1",
   "metadata": {},
   "outputs": [
    {
     "name": "stdout",
     "output_type": "stream",
     "text": [
      "WARNING:tensorflow:5 out of the last 5 calls to <function pfor.<locals>.f at 0x000001C0192E0F78> triggered tf.function retracing. Tracing is expensive and the excessive number of tracings could be due to (1) creating @tf.function repeatedly in a loop, (2) passing tensors with different shapes, (3) passing Python objects instead of tensors. For (1), please define your @tf.function outside of the loop. For (2), @tf.function has reduce_retracing=True option that can avoid unnecessary retracing. For (3), please refer to https://www.tensorflow.org/guide/function#controlling_retracing and https://www.tensorflow.org/api_docs/python/tf/function for  more details.\n",
      "WARNING:tensorflow:6 out of the last 6 calls to <function pfor.<locals>.f at 0x000001C017A27F78> triggered tf.function retracing. Tracing is expensive and the excessive number of tracings could be due to (1) creating @tf.function repeatedly in a loop, (2) passing tensors with different shapes, (3) passing Python objects instead of tensors. For (1), please define your @tf.function outside of the loop. For (2), @tf.function has reduce_retracing=True option that can avoid unnecessary retracing. For (3), please refer to https://www.tensorflow.org/guide/function#controlling_retracing and https://www.tensorflow.org/api_docs/python/tf/function for  more details.\n"
     ]
    }
   ],
   "source": [
    "# Determine the average length of a black rail call\n",
    "# Calculate wave cycle length\n",
    "lengths=[]\n",
    "for file in os.listdir(POS):\n",
    "    tensor_wave = load_wav_16k_mono(os.path.join(POS, file))\n",
    "    lengths.append(len(tensor_wave))"
   ]
  },
  {
   "cell_type": "code",
   "execution_count": 14,
   "id": "87284509",
   "metadata": {},
   "outputs": [
    {
     "data": {
      "text/plain": [
       "[10753,\n",
       " 10753,\n",
       " 10753,\n",
       " 10753,\n",
       " 10753,\n",
       " 10753,\n",
       " 10753,\n",
       " 20089,\n",
       " 20089,\n",
       " 20089,\n",
       " 20089,\n",
       " 20089,\n",
       " 20089,\n",
       " 20089,\n",
       " 19876,\n",
       " 19876,\n",
       " 19876,\n",
       " 19876,\n",
       " 19876,\n",
       " 19876,\n",
       " 19876,\n",
       " 17497,\n",
       " 17497,\n",
       " 17497,\n",
       " 17497,\n",
       " 17497,\n",
       " 17497,\n",
       " 17497,\n",
       " 13374,\n",
       " 13374,\n",
       " 13374,\n",
       " 13374,\n",
       " 13374,\n",
       " 13374,\n",
       " 13374,\n",
       " 16532,\n",
       " 16532,\n",
       " 16532,\n",
       " 16532,\n",
       " 16532,\n",
       " 16532,\n",
       " 16532,\n",
       " 14675,\n",
       " 14675,\n",
       " 14675,\n",
       " 14675,\n",
       " 14675,\n",
       " 14675,\n",
       " 14675,\n",
       " 17275,\n",
       " 17275,\n",
       " 17275,\n",
       " 17275,\n",
       " 17275,\n",
       " 17275,\n",
       " 17275,\n",
       " 15919,\n",
       " 15919,\n",
       " 15919,\n",
       " 15919,\n",
       " 15919,\n",
       " 15919,\n",
       " 15919,\n",
       " 13893,\n",
       " 13893,\n",
       " 13893,\n",
       " 13893,\n",
       " 13893,\n",
       " 13893,\n",
       " 13893,\n",
       " 17275,\n",
       " 17275,\n",
       " 17275,\n",
       " 17275,\n",
       " 17275,\n",
       " 17275,\n",
       " 17275,\n",
       " 10236,\n",
       " 10236,\n",
       " 10236,\n",
       " 10236,\n",
       " 10236,\n",
       " 10236,\n",
       " 10236,\n",
       " 13746,\n",
       " 13746,\n",
       " 13746,\n",
       " 13746,\n",
       " 13746,\n",
       " 13746,\n",
       " 13746,\n",
       " 13746,\n",
       " 13746,\n",
       " 13746,\n",
       " 13746,\n",
       " 13746,\n",
       " 13746,\n",
       " 13746,\n",
       " 18619,\n",
       " 18619,\n",
       " 18619,\n",
       " 18619,\n",
       " 18619,\n",
       " 18619,\n",
       " 18619,\n",
       " 18619,\n",
       " 18619,\n",
       " 18619,\n",
       " 18619,\n",
       " 18619,\n",
       " 18619,\n",
       " 18619,\n",
       " 18619,\n",
       " 18619,\n",
       " 18619,\n",
       " 18619,\n",
       " 18619,\n",
       " 18619,\n",
       " 18619,\n",
       " 17089,\n",
       " 17089,\n",
       " 17089,\n",
       " 17089,\n",
       " 17089,\n",
       " 17089,\n",
       " 17089,\n",
       " 13188,\n",
       " 13188,\n",
       " 13188,\n",
       " 13188,\n",
       " 13188,\n",
       " 13188,\n",
       " 13188,\n",
       " 16532,\n",
       " 16532,\n",
       " 16532,\n",
       " 16532,\n",
       " 16532,\n",
       " 16532,\n",
       " 16532,\n",
       " 15232,\n",
       " 15232,\n",
       " 15232,\n",
       " 15232,\n",
       " 15232,\n",
       " 15232,\n",
       " 15232,\n",
       " 14675,\n",
       " 14675,\n",
       " 14675,\n",
       " 14675,\n",
       " 14675,\n",
       " 14675,\n",
       " 14675,\n",
       " 10017,\n",
       " 10017,\n",
       " 10017,\n",
       " 10017,\n",
       " 10017,\n",
       " 10017,\n",
       " 10017,\n",
       " 14489,\n",
       " 14489,\n",
       " 14489,\n",
       " 14489,\n",
       " 14489,\n",
       " 14489,\n",
       " 14489,\n",
       " 10114,\n",
       " 10114,\n",
       " 10114,\n",
       " 10114,\n",
       " 10114,\n",
       " 10114,\n",
       " 10114,\n",
       " 7342,\n",
       " 7342,\n",
       " 7342,\n",
       " 7342,\n",
       " 7342,\n",
       " 7342,\n",
       " 7342,\n",
       " 12631,\n",
       " 12631,\n",
       " 12631,\n",
       " 12631,\n",
       " 12631,\n",
       " 12631,\n",
       " 12631,\n",
       " 14674,\n",
       " 14674,\n",
       " 14674,\n",
       " 14674,\n",
       " 14674,\n",
       " 14674,\n",
       " 14674,\n",
       " 19441,\n",
       " 19441,\n",
       " 19441,\n",
       " 19441,\n",
       " 19441,\n",
       " 19441,\n",
       " 19441,\n",
       " 18793,\n",
       " 18793,\n",
       " 18793,\n",
       " 18793,\n",
       " 18793,\n",
       " 18793,\n",
       " 18793]"
      ]
     },
     "execution_count": 14,
     "metadata": {},
     "output_type": "execute_result"
    }
   ],
   "source": [
    "# Show the array we just created of call lengths\n",
    "lengths\n",
    "\n",
    "# Note: There are several repetitions because the 210 clips were produced by copying and pasting the same 30 \n",
    "# .wav files within the positives folder"
   ]
  },
  {
   "cell_type": "code",
   "execution_count": 15,
   "id": "cefd047e",
   "metadata": {},
   "outputs": [
    {
     "name": "stdout",
     "output_type": "stream",
     "text": [
      "tf.Tensor(15165, shape=(), dtype=int32) tf.Tensor(7342, shape=(), dtype=int32) tf.Tensor(20089, shape=(), dtype=int32)\n"
     ]
    }
   ],
   "source": [
    "# Moving forward, we need to specify call length, so let's get some summary statistics\n",
    "# Calculate Mean, Min, and Max\n",
    "mean = tf.math.reduce_mean(lengths)\n",
    "min = tf.math.reduce_min(lengths)\n",
    "max = tf.math.reduce_max(lengths)\n",
    "\n",
    "print(mean, min, max)"
   ]
  },
  {
   "cell_type": "code",
   "execution_count": 17,
   "id": "6035f505",
   "metadata": {},
   "outputs": [],
   "source": [
    "# Looks like the average length is approximately 15,000 - so that's what we'll go with"
   ]
  },
  {
   "cell_type": "code",
   "execution_count": 16,
   "id": "c4fb2128",
   "metadata": {},
   "outputs": [],
   "source": [
    "# Build preprocessing function to convert audio files to spectrograms\n",
    "# Build preprocessing function\n",
    "\n",
    "def preprocess(file_path, label): \n",
    "    wav = load_wav_16k_mono(file_path) # Our data loading function\n",
    "    wav = wav[:15000]\n",
    "    zero_padding = tf.zeros([15000] - tf.shape(wav), dtype=tf.float32) # make sure we include all files below 15000\n",
    "    wav = tf.concat([zero_padding, wav],0)\n",
    "    spectrogram = tf.signal.stft(wav, frame_length=320, frame_step=32)\n",
    "    spectrogram = tf.abs(spectrogram)\n",
    "    spectrogram = tf.expand_dims(spectrogram, axis=2)\n",
    "    return spectrogram, label"
   ]
  },
  {
   "cell_type": "code",
   "execution_count": 17,
   "id": "16eebca8",
   "metadata": {},
   "outputs": [
    {
     "data": {
      "image/png": "[encoded data removed]",
      "text/plain": [
       "<Figure size 3000x2000 with 1 Axes>"
      ]
     },
     "metadata": {},
     "output_type": "display_data"
    }
   ],
   "source": [
    "# Test out the function and viz of the spectrogram from the positives files\n",
    "# Create a spectrogram from a black rail call\n",
    "filepath, label = positives.shuffle(buffer_size=10000).as_numpy_iterator().next()\n",
    "spectrogram, label = preprocess(filepath, label)\n",
    "\n",
    "# Plot the spectrogram\n",
    "plt.figure(figsize=(30,20))\n",
    "plt.imshow(tf.transpose(spectrogram)[0])\n",
    "plt.show()"
   ]
  },
  {
   "cell_type": "code",
   "execution_count": 18,
   "id": "6d7520a7",
   "metadata": {},
   "outputs": [
    {
     "name": "stdout",
     "output_type": "stream",
     "text": [
      "WARNING:tensorflow:From C:\\Users\\Soldo\\anaconda3\\envs\\mlenv\\lib\\site-packages\\tensorflow\\python\\autograph\\pyct\\static_analysis\\liveness.py:83: Analyzer.lamba_check (from tensorflow.python.autograph.pyct.static_analysis.liveness) is deprecated and will be removed after 2023-09-23.\n",
      "Instructions for updating:\n",
      "Lambda fuctions will be no more assumed to be used in the statement where they are used, or at least in the same block. https://github.com/tensorflow/tensorflow/issues/56089\n",
      "WARNING:tensorflow:Using a while_loop for converting IO>AudioResample cause there is no registered converter for this op.\n"
     ]
    }
   ],
   "source": [
    "# Create training and testing partitions\n",
    "# Create a tensorflow data pipeline\n",
    "\n",
    "data = data.map(preprocess)\n",
    "data = data.cache()\n",
    "data = data.shuffle(buffer_size=1000) # shuffle between pos & neg files - reduce bias\n",
    "data = data.batch(16) # Train on 16 samples at a time\n",
    "data = data.prefetch(8)"
   ]
  },
  {
   "cell_type": "code",
   "execution_count": 19,
   "id": "8af92d1f",
   "metadata": {},
   "outputs": [
    {
     "data": {
      "text/plain": [
       "27"
      ]
     },
     "execution_count": 19,
     "metadata": {},
     "output_type": "execute_result"
    }
   ],
   "source": [
    "# What does our data look after preprocessing?\n",
    "# Remember we are running test in batches of 16 \n",
    "# so len(data) will return no. approx. 16X lower than total number of pos and neg files\n",
    "len(data)"
   ]
  },
  {
   "cell_type": "code",
   "execution_count": 20,
   "id": "ce320608",
   "metadata": {},
   "outputs": [],
   "source": [
    "# Split into training and testing data \n",
    "# based on results of the previous code (i.e., take ~70% of data for training partition)\n",
    "train = data.take(19)\n",
    "test = data.skip(19).take(8)"
   ]
  },
  {
   "cell_type": "code",
   "execution_count": 21,
   "id": "8b860d2f",
   "metadata": {},
   "outputs": [
    {
     "data": {
      "text/plain": [
       "(16, 459, 257, 1)"
      ]
     },
     "execution_count": 21,
     "metadata": {},
     "output_type": "execute_result"
    }
   ],
   "source": [
    "# Test One Batch from the training data\n",
    "# First number should be 16 - number of files in the batch\n",
    "# Last 3 numbers are shape of spectrogram - need to pass through deep learning model\n",
    "samples, labels = train.as_numpy_iterator().next()\n",
    "samples.shape"
   ]
  },
  {
   "cell_type": "code",
   "execution_count": 22,
   "id": "5b9bcc3e",
   "metadata": {},
   "outputs": [
    {
     "data": {
      "text/plain": [
       "array([0., 1., 1., 1., 0., 0., 1., 0., 0., 0., 1., 1., 1., 0., 0., 1.],\n",
       "      dtype=float32)"
      ]
     },
     "execution_count": 22,
     "metadata": {},
     "output_type": "execute_result"
    }
   ],
   "source": [
    "# Check that the batch has mix of positive (1) and negative (1) clips\n",
    "labels"
   ]
  },
  {
   "cell_type": "code",
   "execution_count": 23,
   "id": "d3aa2e0f",
   "metadata": {},
   "outputs": [],
   "source": [
    "# Build Deep Learning Model\n",
    "# Load Tensorflow Dependencies\n",
    "import tensorflow as tf\n",
    "from tensorflow.keras.models import Sequential\n",
    "from tensorflow.keras.layers import Conv2D, Dense, Flatten"
   ]
  },
  {
   "cell_type": "code",
   "execution_count": 24,
   "id": "4c6b0a68",
   "metadata": {},
   "outputs": [],
   "source": [
    "# Build sequential model, compile and view summary\n",
    "model = Sequential()\n",
    "model.add(Conv2D(16, (3,3), activation='relu', input_shape=(459, 257,1)))\n",
    "model.add(Conv2D(16, (3,3), activation='relu'))\n",
    "model.add(Flatten())\n",
    "model.add(Dense(128, activation='relu'))\n",
    "model.add(Dense(1, activation='sigmoid'))"
   ]
  },
  {
   "cell_type": "code",
   "execution_count": 25,
   "id": "189e2df0",
   "metadata": {},
   "outputs": [
    {
     "name": "stdout",
     "output_type": "stream",
     "text": [
      "Model: \"sequential\"\n",
      "_________________________________________________________________\n",
      " Layer (type)                Output Shape              Param #   \n",
      "=================================================================\n",
      " conv2d (Conv2D)             (None, 457, 255, 16)      160       \n",
      "                                                                 \n",
      " conv2d_1 (Conv2D)           (None, 455, 253, 16)      2320      \n",
      "                                                                 \n",
      " flatten (Flatten)           (None, 1841840)           0         \n",
      "                                                                 \n",
      " dense (Dense)               (None, 128)               235755648 \n",
      "                                                                 \n",
      " dense_1 (Dense)             (None, 1)                 129       \n",
      "                                                                 \n",
      "=================================================================\n",
      "Total params: 235,758,257\n",
      "Trainable params: 235,758,257\n",
      "Non-trainable params: 0\n",
      "_________________________________________________________________\n"
     ]
    }
   ],
   "source": [
    "# Compile the model\n",
    "# Check out the parameters\n",
    "model.compile('Adam', loss='BinaryCrossentropy', metrics=[tf.keras.metrics.Recall(),tf.keras.metrics.Precision()])\n",
    "model.summary()"
   ]
  },
  {
   "cell_type": "code",
   "execution_count": 26,
   "id": "dc387eb1",
   "metadata": {},
   "outputs": [
    {
     "name": "stdout",
     "output_type": "stream",
     "text": [
      "Epoch 1/4\n",
      "19/19 [==============================] - 61s 3s/step - loss: 4.2508 - recall: 0.9320 - precision: 0.8457 - val_loss: 0.1054 - val_recall: 1.0000 - val_precision: 0.9818\n",
      "Epoch 2/4\n",
      "19/19 [==============================] - 59s 3s/step - loss: 0.0532 - recall: 0.9675 - precision: 0.9868 - val_loss: 0.0367 - val_recall: 0.9672 - val_precision: 1.0000\n",
      "Epoch 3/4\n",
      "19/19 [==============================] - 59s 3s/step - loss: 0.0412 - recall: 0.9671 - precision: 1.0000 - val_loss: 0.0410 - val_recall: 1.0000 - val_precision: 1.0000\n",
      "Epoch 4/4\n",
      "19/19 [==============================] - 60s 3s/step - loss: 0.0223 - recall: 0.9872 - precision: 1.0000 - val_loss: 0.0193 - val_recall: 1.0000 - val_precision: 1.0000\n"
     ]
    }
   ],
   "source": [
    "# Fit Model, View Loss and KPI Plots\n",
    "hist = model.fit(train, epochs=4, validation_data=test)"
   ]
  },
  {
   "cell_type": "code",
   "execution_count": 27,
   "id": "e0df768a",
   "metadata": {},
   "outputs": [
    {
     "data": {
      "text/plain": [
       "{'loss': [4.250800609588623,\n",
       "  0.0532342828810215,\n",
       "  0.04115183278918266,\n",
       "  0.022313192486763],\n",
       " 'recall': [0.9319728016853333,\n",
       "  0.9675324559211731,\n",
       "  0.9671052694320679,\n",
       "  0.9871794581413269],\n",
       " 'precision': [0.845678985118866, 0.9867549538612366, 1.0, 1.0],\n",
       " 'val_loss': [0.10538190603256226,\n",
       "  0.03672059252858162,\n",
       "  0.041028112173080444,\n",
       "  0.0193018838763237],\n",
       " 'val_recall': [1.0, 0.9672130942344666, 1.0, 1.0],\n",
       " 'val_precision': [0.9818181991577148, 1.0, 1.0, 1.0]}"
      ]
     },
     "execution_count": 27,
     "metadata": {},
     "output_type": "execute_result"
    }
   ],
   "source": [
    "# Get some numbers of how the model performed\n",
    "hist.history"
   ]
  },
  {
   "cell_type": "code",
   "execution_count": 28,
   "id": "3dcddee0",
   "metadata": {},
   "outputs": [
    {
     "data": {
      "image/png": "[encoded data removed]",
      "text/plain": [
       "<Figure size 640x480 with 1 Axes>"
      ]
     },
     "metadata": {},
     "output_type": "display_data"
    }
   ],
   "source": [
    "# Plot loss\n",
    "plt.title('Loss')\n",
    "plt.plot(hist.history['loss'], 'r')\n",
    "plt.plot(hist.history['val_loss'], 'b')\n",
    "plt.show()"
   ]
  },
  {
   "cell_type": "code",
   "execution_count": 29,
   "id": "4d996fe0",
   "metadata": {},
   "outputs": [],
   "source": [
    "# Make a prediction on a single clip\n",
    "# Get one batch and make a prediction\n",
    "X_test, y_test = test.as_numpy_iterator().next()"
   ]
  },
  {
   "cell_type": "code",
   "execution_count": 30,
   "id": "792de36d",
   "metadata": {},
   "outputs": [
    {
     "data": {
      "text/plain": [
       "(16, 459, 257, 1)"
      ]
     },
     "execution_count": 30,
     "metadata": {},
     "output_type": "execute_result"
    }
   ],
   "source": [
    "# Make sure the test includes 16 spectrograms\n",
    "X_test.shape"
   ]
  },
  {
   "cell_type": "code",
   "execution_count": 31,
   "id": "74774c8f",
   "metadata": {},
   "outputs": [
    {
     "data": {
      "text/plain": [
       "(16,)"
      ]
     },
     "execution_count": 31,
     "metadata": {},
     "output_type": "execute_result"
    }
   ],
   "source": [
    "# Make sure the y_test has 16 labels\n",
    "y_test.shape"
   ]
  },
  {
   "cell_type": "code",
   "execution_count": 32,
   "id": "6cc14eea",
   "metadata": {},
   "outputs": [
    {
     "name": "stdout",
     "output_type": "stream",
     "text": [
      "1/1 [==============================] - 0s 316ms/step\n"
     ]
    }
   ],
   "source": [
    "# Use your model to make some predictions!\n",
    "yhat = model.predict(X_test)"
   ]
  },
  {
   "cell_type": "code",
   "execution_count": 33,
   "id": "f215b4c2",
   "metadata": {},
   "outputs": [
    {
     "data": {
      "text/plain": [
       "array([[1.1357958e-17],\n",
       "       [1.0000000e+00],\n",
       "       [1.0000000e+00],\n",
       "       [8.5417414e-03],\n",
       "       [2.7937510e-16],\n",
       "       [1.0000000e+00],\n",
       "       [1.0000000e+00],\n",
       "       [1.0000000e+00],\n",
       "       [1.0000000e+00],\n",
       "       [3.5183820e-01],\n",
       "       [5.5741606e-04],\n",
       "       [4.0888973e-03],\n",
       "       [1.0000000e+00],\n",
       "       [1.0015822e-03],\n",
       "       [1.0000000e+00],\n",
       "       [2.4279697e-07]], dtype=float32)"
      ]
     },
     "execution_count": 33,
     "metadata": {},
     "output_type": "execute_result"
    }
   ],
   "source": [
    "# See how your model did - get logits or confidence metrics for each spectrogram in the batch\n",
    "yhat"
   ]
  },
  {
   "cell_type": "code",
   "execution_count": 34,
   "id": "ea963d5d",
   "metadata": {},
   "outputs": [],
   "source": [
    "# Convert Logits to Classes\n",
    "# Loop through each prediction - model is precise so raise confidence interval - let's say 95%\n",
    "yhat = [1 if prediction > 0.95 else 0 for prediction in yhat]"
   ]
  },
  {
   "cell_type": "code",
   "execution_count": 35,
   "id": "2c367dba",
   "metadata": {},
   "outputs": [
    {
     "data": {
      "text/plain": [
       "[0, 1, 1, 0, 0, 1, 1, 1, 1, 0, 0, 0, 1, 0, 1, 0]"
      ]
     },
     "execution_count": 35,
     "metadata": {},
     "output_type": "execute_result"
    }
   ],
   "source": [
    "# Display the new classes \n",
    "yhat"
   ]
  },
  {
   "cell_type": "code",
   "execution_count": 36,
   "id": "1e491dc0",
   "metadata": {},
   "outputs": [
    {
     "data": {
      "text/plain": [
       "<tf.Tensor: shape=(), dtype=int32, numpy=8>"
      ]
     },
     "execution_count": 36,
     "metadata": {},
     "output_type": "execute_result"
    }
   ],
   "source": [
    "# How many rails were heard based on the model prediction?\n",
    "tf.math.reduce_sum(yhat)"
   ]
  },
  {
   "cell_type": "code",
   "execution_count": 37,
   "id": "83f8742b",
   "metadata": {},
   "outputs": [
    {
     "data": {
      "text/plain": [
       "<tf.Tensor: shape=(), dtype=float32, numpy=8.0>"
      ]
     },
     "execution_count": 37,
     "metadata": {},
     "output_type": "execute_result"
    }
   ],
   "source": [
    "# How many rails were heard based on the test data?\n",
    "tf.math.reduce_sum(y_test)"
   ]
  },
  {
   "cell_type": "code",
   "execution_count": 38,
   "id": "14237a3c",
   "metadata": {},
   "outputs": [
    {
     "data": {
      "text/plain": [
       "array([0, 1, 1, 0, 0, 1, 1, 1, 1, 0, 0, 0, 1, 0, 1, 0])"
      ]
     },
     "execution_count": 38,
     "metadata": {},
     "output_type": "execute_result"
    }
   ],
   "source": [
    "# Look at y_test as classes\n",
    "y_test.astype(int)"
   ]
  },
  {
   "cell_type": "code",
   "execution_count": 39,
   "id": "28c3535a",
   "metadata": {},
   "outputs": [],
   "source": [
    "# Try out the model on some new audio files\n",
    "#Build parsing functions\n",
    "#Load up MP3s\n",
    "\n",
    "def load_mp3_16k_mono(filename):\n",
    "    \"\"\" Load a WAV file, convert it to a float tensor, resample to 16 kHz single-channel audio. \"\"\"\n",
    "    res = tfio.audio.AudioIOTensor(filename)\n",
    "    # Convert to tensor and combine channels \n",
    "    tensor = res.to_tensor()\n",
    "    tensor = tf.math.reduce_sum(tensor, axis=1) / 2 \n",
    "    # Extract sample rate and cast\n",
    "    sample_rate = res.rate\n",
    "    sample_rate = tf.cast(sample_rate, dtype=tf.int64)\n",
    "    # Resample to 16 kHz\n",
    "    wav = tfio.audio.resample(tensor, rate_in=sample_rate, rate_out=16000)\n",
    "    return wav"
   ]
  },
  {
   "cell_type": "code",
   "execution_count": 40,
   "id": "59cc39e0",
   "metadata": {},
   "outputs": [],
   "source": [
    "mp3 = 'C:\\\\Users\\\\Soldo\\\\Desktop\\\\Black_Rail_Audio_Files\\\\BLRA_Deep_Learning_Model\\\\Audio_Files_To_Test_Model\\\\BLRA_Test_Clip2_Pos.mp3'"
   ]
  },
  {
   "cell_type": "code",
   "execution_count": 41,
   "id": "6ec28e82",
   "metadata": {},
   "outputs": [
    {
     "data": {
      "text/plain": [
       "'C:\\\\Users\\\\Soldo\\\\Desktop\\\\Black_Rail_Audio_Files\\\\BLRA_Deep_Learning_Model\\\\Audio_Files_To_Test_Model\\\\BLRA_Test_Clip2_Pos.mp3'"
      ]
     },
     "execution_count": 41,
     "metadata": {},
     "output_type": "execute_result"
    }
   ],
   "source": [
    "mp3"
   ]
  },
  {
   "cell_type": "code",
   "execution_count": 42,
   "id": "fcbce53c",
   "metadata": {},
   "outputs": [],
   "source": [
    "wav = load_mp3_16k_mono(mp3)"
   ]
  },
  {
   "cell_type": "code",
   "execution_count": 43,
   "id": "27f90f2c",
   "metadata": {},
   "outputs": [],
   "source": [
    "# Convert \"wav\" file into slices for image recognition\n",
    "# Remember - our sequence length is 15,000\n",
    "audio_slices = tf.keras.utils.timeseries_dataset_from_array(wav, wav, sequence_length=15000, sequence_stride=15000, batch_size=1)"
   ]
  },
  {
   "cell_type": "code",
   "execution_count": 44,
   "id": "4ec04d6c",
   "metadata": {},
   "outputs": [
    {
     "data": {
      "text/plain": [
       "58"
      ]
     },
     "execution_count": 44,
     "metadata": {},
     "output_type": "execute_result"
    }
   ],
   "source": [
    "# Take one clip and slice it up\n",
    "samples, index = audio_slices.as_numpy_iterator().next()\n",
    "len(audio_slices)"
   ]
  },
  {
   "cell_type": "code",
   "execution_count": 45,
   "id": "8e5214ee",
   "metadata": {},
   "outputs": [],
   "source": [
    "#Build function to convert clip slices into windowed spectrograms\n",
    "def preprocess_mp3(sample, index):\n",
    "    sample = sample[0]\n",
    "    zero_padding = tf.zeros([15000] - tf.shape(sample), dtype=tf.float32)\n",
    "    wav = tf.concat([zero_padding, sample],0)\n",
    "    spectrogram = tf.signal.stft(wav, frame_length=320, frame_step=32)\n",
    "    spectrogram = tf.abs(spectrogram)\n",
    "    spectrogram = tf.expand_dims(spectrogram, axis=2)\n",
    "    return spectrogram"
   ]
  },
  {
   "cell_type": "code",
   "execution_count": 46,
   "id": "12ad5ef0",
   "metadata": {},
   "outputs": [],
   "source": [
    "# Convert longer clips into windows and make predicitons\n",
    "audio_slices = tf.keras.utils.timeseries_dataset_from_array(wav, wav, sequence_length=15000, sequence_stride=15000, batch_size=1)\n",
    "audio_slices = audio_slices.map(preprocess_mp3)\n",
    "audio_slices = audio_slices.batch(64)"
   ]
  },
  {
   "cell_type": "code",
   "execution_count": 47,
   "id": "64ee9f51",
   "metadata": {},
   "outputs": [
    {
     "name": "stdout",
     "output_type": "stream",
     "text": [
      "1/1 [==============================] - 1s 936ms/step\n"
     ]
    }
   ],
   "source": [
    "# Make predicitons on the mp3 files\n",
    "yhat = model.predict(audio_slices)\n",
    "yhat = [1 if prediction > 0.95 else 0 for prediction in yhat]"
   ]
  },
  {
   "cell_type": "code",
   "execution_count": 48,
   "id": "395c1cfd",
   "metadata": {},
   "outputs": [
    {
     "data": {
      "text/plain": [
       "[0,\n",
       " 0,\n",
       " 0,\n",
       " 0,\n",
       " 0,\n",
       " 0,\n",
       " 0,\n",
       " 0,\n",
       " 0,\n",
       " 0,\n",
       " 0,\n",
       " 0,\n",
       " 0,\n",
       " 0,\n",
       " 1,\n",
       " 0,\n",
       " 0,\n",
       " 0,\n",
       " 0,\n",
       " 0,\n",
       " 0,\n",
       " 0,\n",
       " 1,\n",
       " 1,\n",
       " 1,\n",
       " 0,\n",
       " 0,\n",
       " 0,\n",
       " 0,\n",
       " 0,\n",
       " 0,\n",
       " 0,\n",
       " 0,\n",
       " 0,\n",
       " 0,\n",
       " 0,\n",
       " 0,\n",
       " 0,\n",
       " 0,\n",
       " 0,\n",
       " 0,\n",
       " 0,\n",
       " 0,\n",
       " 1,\n",
       " 1,\n",
       " 0,\n",
       " 0,\n",
       " 0,\n",
       " 0,\n",
       " 0,\n",
       " 0,\n",
       " 0,\n",
       " 0,\n",
       " 0,\n",
       " 0,\n",
       " 0,\n",
       " 0,\n",
       " 0]"
      ]
     },
     "execution_count": 48,
     "metadata": {},
     "output_type": "execute_result"
    }
   ],
   "source": [
    "# Take a look at our predictions\n",
    "yhat"
   ]
  },
  {
   "cell_type": "code",
   "execution_count": 49,
   "id": "b00645b9",
   "metadata": {},
   "outputs": [
    {
     "data": {
      "text/plain": [
       "58"
      ]
     },
     "execution_count": 49,
     "metadata": {},
     "output_type": "execute_result"
    }
   ],
   "source": [
    "len(yhat)"
   ]
  },
  {
   "cell_type": "code",
   "execution_count": 50,
   "id": "38c73394",
   "metadata": {},
   "outputs": [
    {
     "data": {
      "text/plain": [
       "6"
      ]
     },
     "execution_count": 50,
     "metadata": {},
     "output_type": "execute_result"
    }
   ],
   "source": [
    "# Group consecutive detections\n",
    "from itertools import groupby\n",
    "\n",
    "yhat = [key for key, group in groupby(yhat)]\n",
    "tf.math.reduce_sum(yhat)\n",
    "calls = tf.math.reduce_sum(yhat).numpy()\n",
    "calls"
   ]
  },
  {
   "cell_type": "code",
   "execution_count": 90,
   "id": "c55bf9cf",
   "metadata": {},
   "outputs": [
    {
     "data": {
      "text/plain": [
       "'C:\\\\Users\\\\Soldo\\\\Desktop\\\\Black_Rail_Audio_Files\\\\BLRA_Deep_Learning_Model'"
      ]
     },
     "execution_count": 90,
     "metadata": {},
     "output_type": "execute_result"
    }
   ],
   "source": [
    "pwd"
   ]
  },
  {
   "cell_type": "code",
   "execution_count": null,
   "id": "1295297e",
   "metadata": {},
   "outputs": [],
   "source": [
    "#Make Prediction\n",
    "#Loop over all recordings and make predictions\n",
    "\n",
    "results = {}\n",
    "for file in 'C:\\\\Users\\\\Soldo\\\\Desktop\\\\Black_Rail_Audio_Files\\\\BLRA_Deep_Learning_Model\\\\Audio_Files_To_Test_Model':\n",
    "    FILEPATH = ('C:\\\\Users\\\\Soldo\\\\Desktop\\\\Black_Rail_Audio_Files\\\\BLRA_Deep_Learning_Model\\\\Audio_Files_To_Test_Model', file)\n",
    "    \n",
    "    wav = load_mp3_16k_mono(FILEPATH)\n",
    "    audio_slices = tf.keras.utils.timeseries_dataset_from_array(wav, wav, sequence_length=15000, sequence_stride=15000, batch_size=1)\n",
    "    audio_slices = audio_slices.map(preprocess_mp3)\n",
    "    audio_slices = audio_slices.batch(64)\n",
    "    \n",
    "    yhat = model.predict(audio_slices)\n",
    "    \n",
    "    results[file] = yhat"
   ]
  },
  {
   "cell_type": "code",
   "execution_count": 1,
   "id": "deab5437",
   "metadata": {},
   "outputs": [
    {
     "ename": "NameError",
     "evalue": "name 'results' is not defined",
     "output_type": "error",
     "traceback": [
      "\u001b[1;31m---------------------------------------------------------------------------\u001b[0m",
      "\u001b[1;31mNameError\u001b[0m                                 Traceback (most recent call last)",
      "\u001b[1;32m~\\AppData\\Local\\Temp\\ipykernel_15236\\962467392.py\u001b[0m in \u001b[0;36m<module>\u001b[1;34m\u001b[0m\n\u001b[1;32m----> 1\u001b[1;33m \u001b[0mresults\u001b[0m\u001b[1;33m\u001b[0m\u001b[1;33m\u001b[0m\u001b[0m\n\u001b[0m",
      "\u001b[1;31mNameError\u001b[0m: name 'results' is not defined"
     ]
    }
   ],
   "source": [
    "results"
   ]
  },
  {
   "cell_type": "code",
   "execution_count": null,
   "id": "6aaf8ada",
   "metadata": {},
   "outputs": [],
   "source": [
    "#Convert Predictions into Classes\n",
    "class_preds = {}\n",
    "for file, logits in results.items():\n",
    "    class_preds[file] = [1 if prediction > 0.99 else 0 for prediction in logits]\n",
    "class_preds"
   ]
  },
  {
   "cell_type": "code",
   "execution_count": null,
   "id": "2cb85aa4",
   "metadata": {},
   "outputs": [],
   "source": [
    "# Group Consecutive Detections\n",
    "postprocessed = {}\n",
    "for file, scores in class_preds.items():\n",
    "    postprocessed[file] = tf.math.reduce_sum([key for key, group in groupby(scores)]).numpy()\n",
    "postprocessed"
   ]
  },
  {
   "cell_type": "code",
   "execution_count": null,
   "id": "0af16e90",
   "metadata": {},
   "outputs": [],
   "source": [
    "# Export Results\n",
    "import csv\n",
    "\n",
    "with open('results.csv', 'w', newline='') as f:\n",
    "    writer = csv.writer(f, delimiter=',')\n",
    "    writer.writerow(['recording', 'capuchin_calls'])\n",
    "    for key, value in postprocessed.items():\n",
    "        writer.writerow([key, value])"
   ]
  }
 ],
 "metadata": {
  "kernelspec": {
   "display_name": "mlenv",
   "language": "python",
   "name": "mlenv"
  },
  "language_info": {
   "codemirror_mode": {
    "name": "ipython",
    "version": 3
   },
   "file_extension": ".py",
   "mimetype": "text/x-python",
   "name": "python",
   "nbconvert_exporter": "python",
   "pygments_lexer": "ipython3",
   "version": "3.7.13"
  }
 },
 "nbformat": 4,
 "nbformat_minor": 5
}
